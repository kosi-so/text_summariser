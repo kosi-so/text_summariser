{
 "cells": [
  {
   "cell_type": "code",
   "execution_count": 6,
   "metadata": {},
   "outputs": [],
   "source": [
    "import os\n",
    "from pathlib import Path"
   ]
  },
  {
   "cell_type": "code",
   "execution_count": 2,
   "metadata": {},
   "outputs": [],
   "source": [
    "project_name=\"textSummarizer\""
   ]
  },
  {
   "cell_type": "code",
   "execution_count": 3,
   "metadata": {},
   "outputs": [],
   "source": [
    "list_of_files=[\n",
    "    \".github/workflows/.gitkeep\",\n",
    "    f\"src/{project_name}/__init__.py\",\n",
    "    f\"src/{project_name}/components/__init__.py\",\n",
    "    f\"src/{project_name}/utils/__init__.py\",\n",
    "    f\"src/{project_name}/utils/common.py\",\n",
    "    f\"src/{project_name}/logging/__init__.py\",\n",
    "    f\"src/{project_name}/config/__init__.py\",\n",
    "    f\"src/{project_name}/config/configuration.py\",\n",
    "    f\"src/{project_name}/pipeline/__init__.py\",\n",
    "    f\"src/{project_name}/entity/__init__.py\",\n",
    "    f\"src/{project_name}/constants/__init__.py\",\n",
    "    \"config/config.yaml\",\n",
    "    \"params.yaml\",\n",
    "    \"app.py\",\n",
    "    \"main.py\",\n",
    "    \"Dockerfile\",\n",
    "    \"requirements.txt\",\n",
    "    \"setup.py\",\n",
    "    \"research/research.ipynb\"\n",
    "\n",
    "]"
   ]
  },
  {
   "cell_type": "code",
   "execution_count": 7,
   "metadata": {},
   "outputs": [
    {
     "name": "stdout",
     "output_type": "stream",
     "text": [
      ".github\\workflows .gitkeep\n",
      "src\\textSummarizer __init__.py\n",
      "src\\textSummarizer\\components __init__.py\n",
      "src\\textSummarizer\\utils __init__.py\n",
      "src\\textSummarizer\\utils common.py\n",
      "src\\textSummarizer\\logging __init__.py\n",
      "src\\textSummarizer\\config __init__.py\n",
      "src\\textSummarizer\\config configuration.py\n",
      "src\\textSummarizer\\pipeline __init__.py\n",
      "src\\textSummarizer\\entity __init__.py\n",
      "src\\textSummarizer\\constants __init__.py\n",
      "config config.yaml\n",
      " params.yaml\n",
      " app.py\n",
      " main.py\n",
      " Dockerfile\n",
      " requirements.txt\n",
      " setup.py\n",
      "research research.ipynb\n"
     ]
    }
   ],
   "source": [
    "for  file in list_of_files:\n",
    "    filepath = Path(file)\n",
    "    filedir, filename =os.path.split(filepath)\n",
    "    print(filedir, filename)"
   ]
  },
  {
   "cell_type": "code",
   "execution_count": null,
   "metadata": {},
   "outputs": [],
   "source": []
  }
 ],
 "metadata": {
  "kernelspec": {
   "display_name": "venv",
   "language": "python",
   "name": "python3"
  },
  "language_info": {
   "codemirror_mode": {
    "name": "ipython",
    "version": 3
   },
   "file_extension": ".py",
   "mimetype": "text/x-python",
   "name": "python",
   "nbconvert_exporter": "python",
   "pygments_lexer": "ipython3",
   "version": "3.10.0"
  }
 },
 "nbformat": 4,
 "nbformat_minor": 2
}
